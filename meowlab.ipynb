{
 "cells": [
  {
   "cell_type": "markdown",
   "id": "c6175159",
   "metadata": {},
   "source": [
    "# MeowLab\n",
    "\n",
    "> cat可能是你最常用的命令行工具之一，但是可能很少有人会关注cat的性能问题。\n",
    "> \n",
    "> 但实际上，cat可能比你想的更加高效。在这个lab中，我们会一起来探索cat如此高效的秘密。"
   ]
  },
  {
   "cell_type": "markdown",
   "id": "ef876965",
   "metadata": {},
   "source": [
    "## 什么是cat\n",
    "\n",
    "对于大部分同学来说，这个问题有些太trivial了。但是以防万一，还是在这里介绍一下，cat是一个GNU coreutils中的一个程序，它的作用是连接(con**cat**enate)一系列文件，并将其输出到标准输出流(stdout)中。\n",
    "\n",
    "> 如果你愿意去找，你会发现这个lab中所有的代码都可以在GNU coreutils中找到，或者你用某个大模型，它可能也能写得不错。\n",
    "> 但是，除了写代码以外，这个lab中也会包含一些分析和讨论。因此即使你选择直接去抄GNU coreutils中的代码，也不要直接不加思考的复制粘贴。"
   ]
  },
  {
   "cell_type": "markdown",
   "id": "be33179e",
   "metadata": {},
   "source": [
    "## 环境要求\n",
    "\n",
    "* 操作系统：Linux（任何包含GNU coreutils的发行版）\n",
    "* 编译器：本lab允许使用C/C++或者Rust，选择你喜欢的任何编译器即可。\n",
    "* Python3.x：本lab一些地方需要你画图，推荐你使用matplotlib。另外，我们使用一个简单的脚本来生成测试文件。"
   ]
  },
  {
   "cell_type": "markdown",
   "id": "c6d3e510",
   "metadata": {},
   "source": [
    "## 在开始之前\n",
    "\n",
    "这个项目的所有代码需要你自己动手来写，我们只提供了一个用于生成测试文件的脚本。\n",
    "\n",
    "为了展示比较明显的测试效果，我们会生成一个2GB的测试文件，请确保你的磁盘拥有足够的空间。你可以运行下面这个单元格来查看你的电脑是否有足够的空间。这里我们使用了`df`命令，这个命令的作用是查看某个文件系统所在的磁盘的使用量。"
   ]
  },
  {
   "cell_type": "code",
   "execution_count": 6,
   "id": "14021422",
   "metadata": {},
   "outputs": [
    {
     "name": "stdout",
     "output_type": "stream",
     "text": [
      "Filesystem      Size  Used Avail Use% Mounted on\n",
      "/dev/sdd       1007G   65G  892G   7% /\n",
      "Disk space is sufficient: 892G\n"
     ]
    }
   ],
   "source": [
    "%%bash\n",
    "df -h /\n",
    "\n",
    "avail=$(df -h / | awk 'NR==2 {print $4}' | grep -o '[0-9.]*')\n",
    "unit=$(df -h / | awk 'NR==2 {print $4}' | grep -o '[a-zA-Z]*')\n",
    "if [[ \"$unit\" == \"M\" || \"$unit\" == \"K\" ]]; then\n",
    "    echo \"Disk space is low: $avail$unit\"\n",
    "elif [[ \"$unit\" == \"T\" ]]; then\n",
    "    echo \"Disk space is sufficient: $avail$unit\"\n",
    "elif [[ \"$unit\" == \"G\" ]]; then\n",
    "    if (( $(echo \"$avail < 10\" | bc -l) )); then\n",
    "        echo \"Disk space is low: $avail$unit\"\n",
    "    else\n",
    "        echo \"Disk space is sufficient: $avail$unit\"\n",
    "    fi\n",
    "else\n",
    "    echo \"Unknown unit: $unit\"\n",
    "fi\n"
   ]
  },
  {
   "cell_type": "markdown",
   "id": "64cc6804",
   "metadata": {},
   "source": [
    "你可以使用我们提供的python脚本来生成测试文件，运行下面的单元格。测试文件的生成可能会花费一定的时间。"
   ]
  },
  {
   "cell_type": "code",
   "execution_count": 7,
   "id": "8ead0359",
   "metadata": {},
   "outputs": [],
   "source": [
    "import random\n",
    "\n",
    "MB = 1024 * 1024\n",
    "\n",
    "# A static seed for reproducibility\n",
    "random.seed(42)\n",
    "\n",
    "with open(\"test.txt\", \"wb\") as f:\n",
    "    for _ in range(2048):\n",
    "        f.write(random.randbytes(1 * MB)) # 1MB of random data"
   ]
  },
  {
   "cell_type": "markdown",
   "id": "a0017028",
   "metadata": {},
   "source": [
    "当前文件夹下面会出现一个大小为2GB的文件`test.txt`。你可以运行下面的单元格来验证。"
   ]
  },
  {
   "cell_type": "code",
   "execution_count": 8,
   "id": "a4bd4bd0",
   "metadata": {},
   "outputs": [],
   "source": [
    "import os\n",
    "os.environ[\"PATH\"] += \":/home/zhaoyiburui/.cargo/bin\"\n",
    "\n"
   ]
  },
  {
   "cell_type": "markdown",
   "id": "55fbac6a",
   "metadata": {},
   "source": [
    "最后，我们的lab会需要使用`hyperfine`来测量程序的运行时间。我们推荐你使用`cargo`进行安装。你可以从[Rust官网](https://www.rust-lang.org/zh-CN/learn/get-started)找到安装脚本。如果你的电脑已经安装好了`cargo`，你可以运行下面的单元格来安装`hyperfine`。"
   ]
  },
  {
   "cell_type": "code",
   "execution_count": 9,
   "id": "77f0165a",
   "metadata": {},
   "outputs": [
    {
     "name": "stderr",
     "output_type": "stream",
     "text": [
      "\u001b[1m\u001b[32m    Updating\u001b[0m crates.io index\n",
      "\u001b[1m\u001b[32m     Ignored\u001b[0m package `hyperfine v1.19.0` is already installed, use --force to override\n"
     ]
    }
   ],
   "source": [
    "%%bash\n",
    "cargo install hyperfine"
   ]
  },
  {
   "cell_type": "markdown",
   "id": "45cefa6f",
   "metadata": {},
   "source": [
    "有了以上的准备工作，我们终于可以开始我们的探索之旅了。"
   ]
  },
  {
   "cell_type": "markdown",
   "id": "9c1afa63",
   "metadata": {},
   "source": [
    "## 任务0: 测量cat的效率\n",
    "\n",
    "你要做的第一个任务十分简单。学习一下如何使用`hyperfine`，并且使用它来测试GNU coreutils中的cat输出我们生成的测试文件`test.txt`的时间。运行下面的单元格来运行测试。"
   ]
  },
  {
   "cell_type": "code",
   "execution_count": 10,
   "id": "4af9a82b",
   "metadata": {},
   "outputs": [
    {
     "name": "stdout",
     "output_type": "stream",
     "text": [
      "Benchmark 1: cat test.txt\n",
      "  Time (mean ± σ):     199.0 ms ±  19.8 ms    [User: 2.2 ms, System: 196.9 ms]\n",
      "  Range (min … max):   169.1 ms … 235.5 ms    15 runs\n",
      " \n"
     ]
    }
   ],
   "source": [
    "%%bash\n",
    "hyperfine --warmup 3 'cat test.txt'"
   ]
  },
  {
   "cell_type": "markdown",
   "id": "cd94fe5a",
   "metadata": {},
   "source": [
    "## 任务1: 写一个最朴素的cat\n",
    "\n",
    "我们现在使用`hyperfine`测量了GNU coreutils中的`cat`的运行效率，但是对于这个运行时间，我们可能并没有什么概念。现在我们将会写一个最朴素的`cat`程序来作为baseline。这个程序需要满足一下要求：\n",
    "1. 把你的源代码命名为`mycat1.c`或者`mycat1.rs`，并且可执行的二进制文件命名为`mycat1`。\n",
    "2. 你的程序接受且只接受一个命令行参数，这个参数是你要读取的文件。\n",
    "3. 你的程序直接使用`read`和`write`系统调用，每次读取并输出一个字符，不使用任何缓冲区。\n",
    "4. 使用`hpyerfine`测量`mycat1`和`cat`运行时间（`mycat1`的运行时间可能会非常长）\n",
    "5. 虽然这是一个很简单的程序，但是请仍然保持系统编程的规范。请在你的代码中进行进行所有必要的错误处理。\n",
    "\n",
    "这个任务不需要在文档中包含任何内容。"
   ]
  },
  {
   "cell_type": "code",
   "execution_count": 24,
   "id": "124223b9",
   "metadata": {},
   "outputs": [
    {
     "name": "stdout",
     "output_type": "stream",
     "text": [
      "Benchmark 1: ./target/mycat1 test.txt\n",
      "  Time (abs ≡):        700.945 s               [User: 160.919 s, System: 540.024 s]\n",
      " \n"
     ]
    }
   ],
   "source": [
    "%%bash\n",
    "hyperfine --warmup 3 --runs 1 './target/mycat1 test.txt'"
   ]
  },
  {
   "cell_type": "markdown",
   "id": "7105038c",
   "metadata": {},
   "source": [
    "## 任务2: 带有缓冲区的cat\n",
    "\n",
    "如果你正确完成了上面的任务，你会发现，`mycat1`的性能和系统中的`cat`的性能相差甚远。但是经过了ics课程的学习，你肯定已经想到了至少一个解决方案——使用缓冲区。缓冲区可以有效减少反复进行系统调用的性能消耗。但是，我们要面临的第二个问题是：缓冲区的大小应该如何设置呢？我们接下来将一步一步地探索这个问题。\n",
    "\n",
    "我们之前肯定也已经讲过不少涉及IO缓冲区的程序了，它们的缓冲区大小都被设置为多少呢？我相信1024, 4096, 8192一定是比较常见的几个数字。经过ics的学习，我相信你们肯定能说出原因了。那么，这个任务，我们将根据这个原理优化我们的`mycat1`。你至少需要完成下面要求：\n",
    "1. 复制你上一个任务的源代码在上面做修改，并把源代码命名为`mycat2.c`/`mycat2.rs`，可执行二进制文件命名为`mycat2`。\n",
    "2. 写一个`io_blocksize`函数用于确定你的缓冲区的大小，在这个任务中，你可以将缓冲区设置成你当前系统中一个内存页的大小。（注意：你不能假设所有系统中内存页的大小都是4K，请你使用一个系统调用或者标准库中的函数来获取内存页的大小，而不要使用一个固定值。不过允许你使用一个固定值，如果获取内存页发生错误，但是这不应该是一个常见的情况）。\n",
    "3. 使用标准库提供的函数动态分配用于缓冲区的内存。\n",
    "4. 使用`hpyerfine`测量`mycat2`的运行时间\n",
    "5. 请保持系统编程的基本规范。\n",
    "\n",
    "这个任务不需要在文档中包含任何内容。"
   ]
  },
  {
   "cell_type": "code",
   "execution_count": 12,
   "id": "ac23d60f",
   "metadata": {},
   "outputs": [
    {
     "name": "stdout",
     "output_type": "stream",
     "text": [
      "Benchmark 1: ./target/mycat2 test.txt\n",
      "  Time (mean ± σ):     310.6 ms ±   8.0 ms    [User: 39.7 ms, System: 271.1 ms]\n",
      "  Range (min … max):   301.0 ms … 325.7 ms    10 runs\n",
      " \n"
     ]
    }
   ],
   "source": [
    "%%bash\n",
    "hyperfine --warmup 3 './target/mycat2 test.txt'"
   ]
  },
  {
   "cell_type": "markdown",
   "id": "c5630499",
   "metadata": {},
   "source": [
    "## 任务3: 缓冲区对齐的cat\n",
    "\n",
    "如果你正确完成了上面这个任务，你会发现，添加了缓冲区的`mycat2`性能提升十分显著。但是我们还可以进一步优化。实际上只是添加了缓冲区并且设置缓冲区的大小为内存页的整数倍并不是没有什么太多的意义，这样的设置只是为了这个一个任务做铺垫的。在这个任务中，我们将尝试将我们的缓冲区对齐到系统的内存页。至于为什么要这么做，请大家在自己的文档中分析一下。你至少需要完成以下要求：\n",
    "1. 复制你上一个任务的源代码在上面做修改，并把源代码命名为`mycat3.c`/`mycat3.rs`，可执行二进制文件命名为`mycat3`。\n",
    "2. 写两个函数`char* align_alloc(size_t size)`和`void align_free(void* ptr)`，它们的作用分别是分配一段内存，长度不小于`size`并且返回一个对齐到内存页起始的指针`ptr`，以及给出一个先前从`align_alloc`返回的指针并释放之前分配的内存。\n",
    "3. 利用这两个函数修改你的代码，缓冲区的大小仍然设置成一个内存页的大小。\n",
    "4. 使用`hpyerfine`测量`mycat3`的运行时间\n",
    "5. 请保持系统编程的基本规范。\n",
    "\n",
    "这个任务，你需要在文档中回答以下问题：\n",
    "1. 为什么将缓冲区对齐到系统的内存可能提高性能？你的实验结果支持这个猜想吗？为什么？\n",
    "2. 为什么我们直接使用`malloc`函数分配的内存不能对齐到内存页，即使我们分配的内存大小已经是内存页大小的整数倍了。\n",
    "3. 你是怎么在不知道原始的malloc返回的指针的情况下正确释放内存的？"
   ]
  },
  {
   "cell_type": "markdown",
   "id": "f87d1bc5",
   "metadata": {},
   "source": [
    "答：\n",
    "1. 将缓冲区对齐到系统内存页可以提高性能是因为操作系统通常以内存页为单位进行内存管理。当缓冲区与内存页边界对齐时，提升 CPU 对于 cache 的利用率，从而提高内存访问效率。此外，对齐的内存可以减少或消除跨页访问，降低操作系统处理页错误的开销。从实验结果看，性能提升不明显(310.6ms vs 318.9ms)，这可能是因为malloc通常已经提供了合理的内存对齐，手动对齐带来的额外收益有限。\n",
    "2. malloc 分配的内存通常只保证基本对齐(如16字节对齐)，而不保证与内存页边界对齐。这是因为 malloc 的实现需要考虑内存使用效率，如果所有分配都对齐到页边界，会导致大量内存浪费(特别是对于小内存分配)。此外，malloc 内部的内存管理机制可能会在分配的内存前后添加额外的元数据，这也会导致整个空闲块是页对齐的，但返回的指针地址并不是。\n",
    "3. 在 align_malloc 中控制分配的大小，使得 malloc 分配得到的空间满足：\n",
    "    - 一定存在页对齐的空间\n",
    "    - 这个空间大小至少为 size\n",
    "    - 这个空间的至少前 8 字节也包含于 malloc 分配的空间中\n",
    "之后将原始malloc的地址写入页对齐空间的前一个 8 字节空间中，保留 malloc 信息。在 align_free 中找到这个地址并 free。"
   ]
  },
  {
   "cell_type": "code",
   "execution_count": 13,
   "id": "cc9a08fd",
   "metadata": {},
   "outputs": [
    {
     "name": "stdout",
     "output_type": "stream",
     "text": [
      "Benchmark 1: ./target/mycat3 test.txt\n",
      "  Time (mean ± σ):     318.9 ms ±  10.1 ms    [User: 34.7 ms, System: 284.5 ms]\n",
      "  Range (min … max):   303.7 ms … 336.9 ms    10 runs\n",
      " \n"
     ]
    }
   ],
   "source": [
    "%%bash\n",
    "hyperfine --warmup 3 './target/mycat3 test.txt'"
   ]
  },
  {
   "cell_type": "markdown",
   "id": "45070667",
   "metadata": {},
   "source": [
    "## 任务4: 设置缓冲区大小为文件系统块大小的整数倍的cat\n",
    "\n",
    "由于`cat`是涉及文件操作的，所以我们自然不能离开磁盘操作。我们在课内已经学到过，磁盘操作的基本单位是块。并且因为我们操作磁盘是经过了操作系统的一层抽象的，操作系统的文件系统也定义了一个操作文件的基本单位块，这个块的大小和磁盘的块的大小相关，但不总是相同。因此我们操作文件的时候实际接触到的块大小是文件系统的块大小。如果我们每次读取和写入文件的时候都按照文件系统的块大小来进行，也能提升性能。在这个任务中，你至少需要完成以下要求：\n",
    "1. 复制你上一个任务的源代码在上面做修改，并把源代码命名为`mycat4.c`/`mycat4.rs`，可执行二进制文件命名为`mycat4`。\n",
    "2. 修改你的函数`io_blocksize`，让你的缓冲区大小既考虑到内存页大小也考虑到文件系统的块大小。\n",
    "3. 使用`hyperfine`测量`mycat4`的运行时间。\n",
    "4. 保持系统编程的基本规范。\n",
    "\n",
    "> 在完成这项任务的时候你需要注意以下几点：\n",
    "> 1. 文件系统中的每个文件，块大小不总是相同的。\n",
    "> 2. 有的文件系统可能会给出虚假的块大小，这种虚假的文件块大小可能根本不是2的整数次幂。\n",
    "\n",
    "这个任务，你需要在文档中回答以下问题：\n",
    "1. 为什么在设置缓冲区大小的时候需要考虑到文件系统块的大小的问题？\n",
    "2. 对于上面提到的两个注意事项你是怎么解决的？"
   ]
  },
  {
   "cell_type": "markdown",
   "id": "3080630d",
   "metadata": {},
   "source": [
    "答：\n",
    "1. 因为文件系统通常以块为单位进行读写操作。当缓冲区大小与文件系统块大小匹配时，可以减少部分块读写和内核中的数据拷贝次数，使每次读取都能完整填充一个或多个文件系统块，从而提高吞吐量。\n",
    "2. 对于第一个问题，可以通过stat系统调用获取特定文件的块大小信息，而不是使用文件系统的默认块大小。\n",
    "对于第二个问题，可以检查获取的块大小是否为2的幂次方，如果不是，可以增长到最近的2的幂次方值。"
   ]
  },
  {
   "cell_type": "code",
   "execution_count": 15,
   "id": "b1c29621",
   "metadata": {},
   "outputs": [
    {
     "name": "stdout",
     "output_type": "stream",
     "text": [
      "Benchmark 1: ./target/mycat4 test.txt\n",
      "  Time (mean ± σ):     316.5 ms ±   9.6 ms    [User: 35.0 ms, System: 281.7 ms]\n",
      "  Range (min … max):   305.7 ms … 335.4 ms    10 runs\n",
      " \n"
     ]
    }
   ],
   "source": [
    "%%bash\n",
    "hyperfine --warmup 3 './target/mycat4 test.txt'"
   ]
  },
  {
   "cell_type": "markdown",
   "id": "442bbd60",
   "metadata": {},
   "source": [
    "## 任务5: 考虑系统调用开销情况下的cat\n",
    "\n",
    "如果你正确完成了上面的任务，那么现在你的`cat`已经可以综合考虑内存页大小，内存页对齐和文件系统块大小的因素来设置缓冲区大小了。但是我们会发现，我们自己的`cat`性能仍然不如我们系统中的`cat`。并且如果你尝试过再进一步增大缓冲区的大小，你的`cat`性能还能更高。这是因为我们目前设置的缓冲区大小还不足以掩盖系统调用带来的开销。那么，我们的缓冲区究竟应该设置到什么大小才够呢？其实这个问题，我们仅仅使用理论分析是无法给出答案的，因为答案受到机器的硬件条件，操作系统的涉及等多重不确定因素的影响。但是，我们可以使用实验来解答这个问题。最后，我们还需要做出假设，不考虑上一个任务的注意事项1，也就是我们假设我们文件系统的大部分文件的块大小都一致（你可以使用我们的测试文件的块大小）。因此，设我们在之前的任务中设置的缓冲区大小是buf_size，我们需要通过实验找到一个倍数A，满足以下条件：\n",
    "1. 当缓冲区大小小于A * buf_size的时候，文件的读写速度显著减小\n",
    "2. 当缓冲区大小大于A * buf_size的时候，文件的读写速度并不显著提升\n",
    "最终，我们就可以直接设置我们的`cat`中的缓冲区大小设置成buf_size的固定倍率。在这个任务中，你只少需要完成以下要求：\n",
    "1. 编写一个实验脚本，尽量排除其他因素的影响，测量只在系统调用开销的影响下，你的系统最合适的缓冲区大小。并且给出这个大小下你的系统的读写速率。\n",
    "2. 复制你上一个任务的源代码在上面做修改，并把源代码命名为`mycat5.c`/`mycat5.rs`，可执行二进制文件命名为`mycat5`。\n",
    "3. 利用上面的实验结果，修改你的函数`io_blocksize`。\n",
    "4. 使用`hyperfine`测量`mycat5`的运行时间。\n",
    "5. 保持系统编程的基本规范。\n",
    "\n",
    "> 提示：\n",
    "> 1. `dd`命令可以用于复制一个文件(也就是读取并写入)，你可以使用命令行参数设置它的缓冲区大小，并且程序终止的时候可以报告平均文件读写速度。\n",
    "> 2. Linux系统中存在`/dev`文件系统，这个目录下有很多特殊文件，其中有一些对你来说可能有用。`/dev/null`，你向这个文件写入的内容并不真正写入磁盘，并且不会对你的系统造成任何影响。`/dev/zero`，如果你尝试读取这个文件你会得到源源不断的`\\0x0`，这个文件也并不真正的从磁盘中读取。\n",
    "\n",
    "这个任务，你需要在文档中包括以下内容：\n",
    "1. 解释一下你的实验脚本是怎么设计的。你应该尝试了多种倍率，请将它们的读写速率画成图表包含在文档中。"
   ]
  },
  {
   "cell_type": "markdown",
   "id": "cfd3795d",
   "metadata": {},
   "source": [
    "答：\n",
    "在脚本中以 512B 作为增量，令 bufsize 从 512B 增长 20 次，每个 bufsize 下测得 20 次从 /dev/zero 向 /dev/null 拷贝 100KB 的用时和速度的平均值，并绘制图形。"
   ]
  },
  {
   "cell_type": "code",
   "execution_count": null,
   "id": "9a720e79",
   "metadata": {},
   "outputs": [
    {
     "data": {
      "image/png": "[encoded data removed]",
      "text/plain": [
       "<Figure size 1000x500 with 1 Axes>"
      ]
     },
     "metadata": {},
     "output_type": "display_data"
    },
    {
     "data": {
      "image/png": "[encoded data removed]",
      "text/plain": [
       "<Figure size 1000x500 with 1 Axes>"
      ]
     },
     "metadata": {},
     "output_type": "display_data"
    }
   ],
   "source": [
    "import subprocess\n",
    "import re\n",
    "from matplotlib import pyplot as plt\n",
    "\n",
    "minsize = 512\n",
    "bufsize = minsize\n",
    "totalsize = 1024 * 100\n",
    "times = []\n",
    "speed = []\n",
    "speed_unit = \"\"\n",
    "pattern = r\"copied,\\s*([\\d.eE+-]+)\\s*s,\\s*([\\d.]+)\\s*([GMK]?B)/s\"\n",
    "bufsizes = []\n",
    "\n",
    "for i in range(20):\n",
    "    cmd = [\n",
    "        \"dd\",\n",
    "        \"if=/dev/zero\",\n",
    "        \"of=/dev/null\",\n",
    "        f\"bs={bufsize}\",\n",
    "        f\"count={totalsize // bufsize}\"\n",
    "    ]\n",
    "    tp_time = 0\n",
    "    tp_speed = 0\n",
    "    num_iters = 20\n",
    "    for _ in range(num_iters):\n",
    "        result = subprocess.run(cmd, capture_output=True, text=True)\n",
    "\n",
    "        match = re.search(pattern, result.stderr)\n",
    "        if match:\n",
    "            time_str = eval(match.group(1))\n",
    "            speed_value = eval(match.group(2))\n",
    "            speed_unit = match.group(3)\n",
    "            tp_time += time_str\n",
    "            tp_speed += speed_value\n",
    "            if speed_unit == \"\":\n",
    "                speed_unit = match.group(3)\n",
    "        else:\n",
    "            print(\"没有匹配到\")\n",
    "    times.append(tp_time / num_iters)\n",
    "    speed.append(tp_speed / num_iters)\n",
    "    bufsizes.append(bufsize)\n",
    "    bufsize += minsize\n",
    "\n",
    "# 绘图美化\n",
    "plt.figure(figsize=(10, 5))\n",
    "plt.plot(bufsizes, times, marker='o', linestyle='-', color='b', label='time(s)')\n",
    "plt.title(\"Total time\")\n",
    "plt.ylabel(\"time(s)\")\n",
    "plt.grid(True)\n",
    "plt.legend()\n",
    "plt.tight_layout()\n",
    "plt.show()\n",
    "\n",
    "plt.figure(figsize=(10, 5))\n",
    "plt.plot(bufsizes, speed, marker='s', linestyle='--', color='r', label=f\"speed ({speed_unit}/s)\")\n",
    "plt.title(\"Speed\")\n",
    "plt.xlabel(\"bufsize(bytes)\")\n",
    "plt.ylabel(f\"speed ({speed_unit}/s)\")\n",
    "plt.grid(True)\n",
    "plt.legend()\n",
    "plt.tight_layout()\n",
    "plt.show()\n"
   ]
  },
  {
   "cell_type": "code",
   "execution_count": 16,
   "id": "fefb5fdb",
   "metadata": {},
   "outputs": [
    {
     "name": "stdout",
     "output_type": "stream",
     "text": [
      "Benchmark 1: ./target/mycat5 test.txt\n",
      "  Time (mean ± σ):     319.2 ms ±   8.4 ms    [User: 38.6 ms, System: 280.9 ms]\n",
      "  Range (min … max):   306.4 ms … 334.2 ms    10 runs\n",
      " \n"
     ]
    }
   ],
   "source": [
    "%%bash\n",
    "hyperfine --warmup 3 './target/mycat5 test.txt'"
   ]
  },
  {
   "cell_type": "markdown",
   "id": "54bef4af",
   "metadata": {},
   "source": [
    "## 任务6: 使用了系统调用`fdadvice`的cat\n",
    "\n",
    "虽然几乎我们的这个lab都在讨论设置缓冲区大小的问题，但是实际上我们的系统中的`cat`还在其他很多方面做了不少优化。这些优化在多数时候和缓冲区相比都不起决定性作用，但是我们也可以从中学习到不少有趣的技巧。这里我们就只尝试其中一个，使用系统调用`fadvise`。这个系统调用可以提示文件系统我们将会以什么样的模式来读写文件，这样操作系统可以设置合适的readahead窗口为文件的读写做准备。在这个任务中，你需要完成以下要求：\n",
    "1. 复制你上一个任务的源代码在上面做修改，并把源代码命名为`mycat6.c`/`mycat6.rs`，可执行二进制文件命名为`mycat6`。\n",
    "2. 在你的代码中使用`fadvise`进行优化。\n",
    "3. 使用`hyperfine`测量`mycat6`的运行时间。\n",
    "4. 保持系统编程的基本规范。\n",
    "\n",
    "这个任务，你需要在文档中回答以下问题：\n",
    "1. 你是如何设置`fadvise`的参数的？\n",
    "2. 对于顺序读写的情况，文件系统可以如何调整readahead？对于随机读写的情况呢？"
   ]
  },
  {
   "cell_type": "markdown",
   "id": "e7821ab5",
   "metadata": {},
   "source": [
    "答：\n",
    "1. 使用了两次 fadvise。第一次使用 POSIX_FADV_SEQUENTIAL，告知内核将要顺序读写；第二次使用 POSIX_FADV_NOREUSE，告知内核将只读一遍。\n",
    "2. 在顺序读写时，文件系统会增加readahead窗口大小，内核会预取比当前请求更多的数据到page cache中；在随机读写时，文件系统会禁用或显著减少readahead。"
   ]
  },
  {
   "cell_type": "code",
   "execution_count": 23,
   "id": "3aad1e29",
   "metadata": {},
   "outputs": [
    {
     "name": "stdout",
     "output_type": "stream",
     "text": [
      "Benchmark 1: ./target/mycat6 test.txt\n",
      "  Time (mean ± σ):     317.2 ms ±  10.5 ms    [User: 38.6 ms, System: 278.9 ms]\n",
      "  Range (min … max):   302.8 ms … 331.9 ms    10 runs\n",
      " \n"
     ]
    }
   ],
   "source": [
    "%%bash\n",
    "hyperfine --warmup 3 './target/mycat6 test.txt'"
   ]
  },
  {
   "cell_type": "markdown",
   "id": "2c605486",
   "metadata": {},
   "source": [
    "## 任务7: 总结\n",
    "\n",
    "经过了上面的所有任务，我们已经成功探索我们系统中最常用的工具`cat`所使用的各种优化。我相信你对涉及系统IO的编程也有了更深刻的理解。现在请你整理汇总上面每个任务你所写的`mycatx`以及系统的`cat`的测量数据，使用一个柱状图来展示。并且请你分析一下你得到的结果：它们符合你的预期吗？为什么？这个结果给你带来了什么启示？\n",
    "\n",
    "这个任务，你需要在文档中包含以下内容：\n",
    "1. 你的全部实验结果的柱状图。\n",
    "2. 你对上述实验结果的分析。"
   ]
  },
  {
   "cell_type": "code",
   "execution_count": 29,
   "id": "4e293a45",
   "metadata": {},
   "outputs": [
    {
     "name": "stdout",
     "output_type": "stream",
     "text": [
      "['Benchmark 1: ./target/mycat2 test.txt\\n  Time (mean ± σ):     346.5 ms ±  17.8 ms    [User: 41.3 ms, System: 303.0 ms]\\n  Range (min … max):   328.8 ms … 389.3 ms    10 runs\\n \\n', 'Benchmark 1: ./target/mycat3 test.txt\\n  Time (mean ± σ):     342.4 ms ±   7.0 ms    [User: 31.1 ms, System: 308.0 ms]\\n  Range (min … max):   332.2 ms … 353.2 ms    10 runs\\n \\n', 'Benchmark 1: ./target/mycat4 test.txt\\n  Time (mean ± σ):     350.0 ms ±  13.5 ms    [User: 35.8 ms, System: 310.7 ms]\\n  Range (min … max):   335.5 ms … 382.9 ms    10 runs\\n \\n', 'Benchmark 1: ./target/mycat5 test.txt\\n  Time (mean ± σ):     342.1 ms ±  14.3 ms    [User: 33.5 ms, System: 305.4 ms]\\n  Range (min … max):   323.9 ms … 364.3 ms    10 runs\\n \\n', 'Benchmark 1: ./target/mycat6 test.txt\\n  Time (mean ± σ):     332.3 ms ±  11.0 ms    [User: 38.9 ms, System: 293.8 ms]\\n  Range (min … max):   317.3 ms … 346.1 ms    10 runs\\n \\n', 'Benchmark 1: cat test.txt\\n  Time (mean ± σ):     184.4 ms ±   3.2 ms    [User: 1.9 ms, System: 185.1 ms]\\n  Range (min … max):   179.4 ms … 192.9 ms    16 runs\\n \\n']\n"
     ]
    },
    {
     "data": {
      "image/png": "[encoded data removed]",
      "text/plain": [
       "<Figure size 1000x500 with 1 Axes>"
      ]
     },
     "metadata": {},
     "output_type": "display_data"
    }
   ],
   "source": [
    "import re\n",
    "import subprocess\n",
    "import matplotlib.pyplot as plt\n",
    "benchmark_outputs = []\n",
    "\n",
    "for i in range(5):\n",
    "    cmd = [\n",
    "        \"hyperfine\",\n",
    "        \"--warmup\",\n",
    "        \"3\",\n",
    "        f\"./target/mycat{i + 2} test.txt\"\n",
    "    ]\n",
    "    result = subprocess.run(cmd, capture_output=True, text=True)\n",
    "    benchmark_outputs.append(result.stdout + result.stderr)\n",
    "\n",
    "cmd = [\n",
    "    \"hyperfine\",\n",
    "    \"--warmup\",\n",
    "    \"3\",\n",
    "    f\"cat test.txt\"\n",
    "]\n",
    "result = subprocess.run(cmd, capture_output=True, text=True)\n",
    "benchmark_outputs.append(result.stdout + result.stderr)\n",
    "means = [0]\n",
    "errors = [[[0], [0]]]\n",
    "labels = [f\"mycat{x + 1}\" for x in range(6)] + [\"cat\"]\n",
    "\n",
    "print(benchmark_outputs)\n",
    "# 提取正则\n",
    "pattern = r\"Benchmark\\s+(\\d+):\\s+.*\\n\\s*Time \\(mean ± σ\\):\\s*([\\d.]+)\\s*ms ±\\s*([\\d.]+)\\s*ms.*\\n\\s*Range \\(min … max\\):\\s*([\\d.]+)\\s*ms …\\s*([\\d.]+)\"\n",
    "\n",
    "for text in benchmark_outputs:\n",
    "    match = re.search(pattern, text)\n",
    "    if match:\n",
    "        label = f\"Benchmark {match.group(1)}\"\n",
    "        mean = float(match.group(2))\n",
    "        min_val = float(match.group(4))\n",
    "        max_val = float(match.group(5))\n",
    "\n",
    "        means.append(mean)\n",
    "        errors.append([[mean - min_val], [max_val - mean]])\n",
    "    else:\n",
    "        print(\"⚠️ 没能匹配一条输出\")\n",
    "\n",
    "# 转置误差格式为 matplotlib 需要的形式\n",
    "yerr = [\n",
    "    [err[0][0] for err in errors],  # 下误差\n",
    "    [err[1][0] for err in errors]   # 上误差\n",
    "]\n",
    "\n",
    "# 绘图\n",
    "plt.figure(figsize=(10, 5))\n",
    "plt.errorbar(range(len(means)), means, yerr=yerr, fmt='o', capsize=6, color='blue')\n",
    "plt.xticks(range(len(labels)), labels, rotation=20)\n",
    "plt.ylabel(\"Time (ms)\")\n",
    "plt.title(\"Benchmark Total time and varience\")\n",
    "plt.grid(True)\n",
    "plt.tight_layout()\n",
    "plt.show()\n"
   ]
  },
  {
   "cell_type": "markdown",
   "id": "ae49eb01",
   "metadata": {},
   "source": [
    "实验表明从任务3开始的任何优化几乎毫无作用（mycat1用时的数量级不同，可以视为非常大的值）。从任务3开始，我们探索了缓冲区大小、缓冲区对齐甚至是优化系统调用来减少mycat用时，但效果不明显，推测原因如下：\n",
    "    1. 事实上，可能是由于设备的原因，各种调整缓冲区大小的优化其实并没有真的改变缓冲区大小，因为在这些情况下最优缓冲区大小相同；\n",
    "    2. 在内存对齐上，主要是为了减少cache的负担，但cache的性能可能本来就很高；\n",
    "    3. 在系统调用上，正如任务描述所说是一个不起决定性作用的优化。\n",
    "\n",
    "在完成任务时确有许多启示：\n",
    "    1. 连一个简单的 cat 程序，前人都会做如此多的优化，可见计算机人对于效率的执着。\n",
    "    2. 现代的很多基础技术在性能上几乎都到达了极致，例如 malloc、文件系统等。"
   ]
  }
 ],
 "metadata": {
  "kernelspec": {
   "display_name": "base",
   "language": "python",
   "name": "python3"
  },
  "language_info": {
   "codemirror_mode": {
    "name": "ipython",
    "version": 3
   },
   "file_extension": ".py",
   "mimetype": "text/x-python",
   "name": "python",
   "nbconvert_exporter": "python",
   "pygments_lexer": "ipython3",
   "version": "3.12.2"
  }
 },
 "nbformat": 4,
 "nbformat_minor": 5
}
